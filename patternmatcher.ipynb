{
 "cells": [
  {
   "cell_type": "markdown",
   "source": [
    "# Pattern Matching"
   ],
   "metadata": {}
  },
  {
   "cell_type": "markdown",
   "source": [
    "## Simple switch-case usage\n",
    "One of the simplest use case is for matching exact values, this is very similar to the switch-case syntax in languages such as C++ and Java.\n",
    "```\n",
    "int day = 4;\n",
    "switch (day) {\n",
    "  case 6:\n",
    "    cout << \"Today is Saturday\";\n",
    "    break;\n",
    "  case 7:\n",
    "    cout << \"Today is Sunday\";\n",
    "    break;\n",
    "  default:\n",
    "    cout << \"Looking forward to the Weekend\";\n",
    "}\n",
    "```"
   ],
   "metadata": {}
  },
  {
   "cell_type": "code",
   "execution_count": 13,
   "source": [
    "def get_day(value: int) -> str:\n",
    "    match value:\n",
    "        case 1:\n",
    "            return \"Monday\"\n",
    "        case 2:\n",
    "            return \"Tuesday\"\n",
    "        case 3:\n",
    "            return \"Wednesday\"\n",
    "        case 4:\n",
    "            return \"Thursday\"\n",
    "        case 5:\n",
    "            return \"Friday\"\n",
    "        case _:\n",
    "            return \"Weekend!\"\n",
    "\n",
    "\n",
    "get_day(7)"
   ],
   "outputs": [
    {
     "output_type": "execute_result",
     "data": {
      "text/plain": [
       "'Weekend!'"
      ]
     },
     "metadata": {},
     "execution_count": 13
    }
   ],
   "metadata": {}
  },
  {
   "cell_type": "markdown",
   "source": [
    "## Unpacking List\n",
    "Unpacks a list and match values inside a list, this can also support nesting."
   ],
   "metadata": {}
  },
  {
   "cell_type": "code",
   "execution_count": 5,
   "source": [
    "def unpack_points(scores: list) -> None:\n",
    "    match scores:\n",
    "        case []:\n",
    "            print(\"No players\")\n",
    "        case [None, None]:\n",
    "            print(\"No scores\")\n",
    "        case [score1, score2]:\n",
    "            print(f\"Score {score1} - {score2}\")\n",
    "        case [[s1, g1, p1], [s2, g2, p2]]:\n",
    "            print(f\"Set-game-point: ({s1}-{s2}), ({g1}-{g2}), ({p1}-{p2})\")\n",
    "        case [first_score, *_]:\n",
    "            print(f\"First score is {first_score}\")\n"
   ],
   "outputs": [],
   "metadata": {}
  },
  {
   "cell_type": "code",
   "execution_count": 10,
   "source": [
    "unpack_points([[1, 2], [1, 4]])\n",
    "unpack_points([None, None])"
   ],
   "outputs": [
    {
     "output_type": "stream",
     "name": "stdout",
     "text": [
      "Score [1, 2] - [1, 4]\n",
      "No scores\n"
     ]
    }
   ],
   "metadata": {}
  },
  {
   "cell_type": "markdown",
   "source": [
    "## Unpacking Dict\n",
    "Unpacks keys in a dict, again nested patterns are supported."
   ],
   "metadata": {}
  },
  {
   "cell_type": "code",
   "execution_count": 8,
   "source": [
    "def unpack_dict(point: dict) -> None:\n",
    "    match point:\n",
    "        case {\"x\": 0, \"y\": 0}:\n",
    "            print(\"Origin\")\n",
    "        case {\"x\": 0, \"y\": y}:\n",
    "            print(f\"On the y axis {y = }\")\n",
    "        case {\"x\": x, \"y\": 0}:\n",
    "            print(f\"On the x axis {x = }\")\n",
    "        case {\"x\": x, \"y\": y} if x == y and x > 0:\n",
    "            print(f\"North East\")\n",
    "        case {\"x\": x, \"y\": y} if x == -y and x > 0:\n",
    "            print(\"South East\")\n",
    "        case {**__}:\n",
    "            print(\"Some other place\")\n",
    "        case _:\n",
    "            print(\"Not a point\")"
   ],
   "outputs": [],
   "metadata": {}
  },
  {
   "cell_type": "code",
   "execution_count": 9,
   "source": [
    "unpack_dict({'x': 1, 'y': -1})"
   ],
   "outputs": [
    {
     "output_type": "stream",
     "name": "stdout",
     "text": [
      "South East\n"
     ]
    }
   ],
   "metadata": {}
  },
  {
   "cell_type": "markdown",
   "source": [
    "## Class Usage\n",
    "Dataclasses are a convenient way to add pattern matching to a class.\n",
    "\n",
    "`__match_args__` is used to match positional attributes of an object."
   ],
   "metadata": {}
  },
  {
   "cell_type": "code",
   "execution_count": 1,
   "source": [
    "from dataclasses import dataclass\n",
    "\n",
    "\n",
    "@dataclass\n",
    "class Point:\n",
    "    \"\"\"`Point` dataclass example for pattern matching.\n",
    "\n",
    "    Note: dataclasses by default will add `__match_args__` for\n",
    "    sequential variable matching.\n",
    "    \"\"\"\n",
    "    x: int\n",
    "    y: int\n",
    "\n",
    "\n",
    "def locate(point: Point) -> None:\n",
    "    match point:\n",
    "        case Point(x=0, y=0):\n",
    "            print(\"Origin\")\n",
    "        case Point(x=0, y=y):\n",
    "            print(f\"On the y axis {y = }\")\n",
    "        case Point(x=x, y=0):\n",
    "            print(f\"On the x axis {x = }\")\n",
    "        case Point(x, y) if x == y and x > 0:\n",
    "            print(f\"North East\")\n",
    "        case Point(x, y) if x == -y and x > 0:\n",
    "            print(\"South East\")\n",
    "        case Point():\n",
    "            print(\"Some other place\")\n",
    "        case _:\n",
    "            print(\"Not a point\")\n"
   ],
   "outputs": [],
   "metadata": {}
  },
  {
   "cell_type": "code",
   "execution_count": 2,
   "source": [
    "locate(Point(1,1))"
   ],
   "outputs": [
    {
     "output_type": "stream",
     "name": "stdout",
     "text": [
      "North East\n"
     ]
    }
   ],
   "metadata": {}
  }
 ],
 "metadata": {
  "orig_nbformat": 4,
  "language_info": {
   "name": "python",
   "version": "3.10.0",
   "mimetype": "text/x-python",
   "codemirror_mode": {
    "name": "ipython",
    "version": 3
   },
   "pygments_lexer": "ipython3",
   "nbconvert_exporter": "python",
   "file_extension": ".py"
  },
  "kernelspec": {
   "name": "python3",
   "display_name": "Python 3.10.0 64-bit ('.venv': poetry)"
  },
  "interpreter": {
   "hash": "e26a94b1fbc0104ec383cdae7377c2527134a6a4e12075faf67d51549a1add28"
  }
 },
 "nbformat": 4,
 "nbformat_minor": 2
}