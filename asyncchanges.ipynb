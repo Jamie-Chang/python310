{
 "cells": [
  {
   "cell_type": "markdown",
   "source": [
    "# AsyncIO Changes\n",
    "`next` and `iter` now have async analogs `aiter` and `anext`"
   ],
   "metadata": {}
  },
  {
   "cell_type": "code",
   "execution_count": 1,
   "source": [
    "import asyncio\n",
    "from contextlib import aclosing, asynccontextmanager, nullcontext\n",
    "from typing import AsyncIterable, Iterable, TypeVar\n",
    "\n",
    "T = TypeVar(\"T\")\n",
    "\n",
    "\n",
    "def first(i: Iterable[T]) -> T:\n",
    "    \"\"\"Get the first element of an iterable.\n",
    "    \"\"\"\n",
    "    return next(iter(i))\n",
    "\n",
    "\n",
    "async def afirst(i: AsyncIterable[T]) -> T:\n",
    "    \"\"\"Get the first element of an async iterable.\n",
    "    \"\"\"\n",
    "    return await anext(aiter(i))"
   ],
   "outputs": [],
   "metadata": {}
  },
  {
   "cell_type": "markdown",
   "source": [
    "Examples:"
   ],
   "metadata": {}
  },
  {
   "cell_type": "code",
   "execution_count": 3,
   "source": [
    "async def asynciterator():\n",
    "    for i in range(5, 10):\n",
    "        yield i\n",
    "\n",
    "\n",
    "await afirst(asynciterator())"
   ],
   "outputs": [
    {
     "output_type": "execute_result",
     "data": {
      "text/plain": [
       "5"
      ]
     },
     "metadata": {},
     "execution_count": 3
    }
   ],
   "metadata": {}
  },
  {
   "cell_type": "markdown",
   "source": [
    "`aclosing` the async analog of `closing`"
   ],
   "metadata": {}
  },
  {
   "cell_type": "code",
   "execution_count": 4,
   "source": [
    "# aclosing\n",
    "\n",
    "from contextlib import aclosing\n",
    "\n",
    "\n",
    "class Connection:\n",
    "    async def aclose(self) -> None:\n",
    "        \"\"\"Async function to close the connection.\n",
    "        \"\"\"\n",
    "        ...\n",
    "\n",
    "\n",
    "async def connect():\n",
    "\n",
    "    async with aclosing(Connection()) as connection:\n",
    "        ...\n"
   ],
   "outputs": [],
   "metadata": {}
  },
  {
   "cell_type": "markdown",
   "source": [
    "`nullcontext` now works with `async with`"
   ],
   "metadata": {}
  },
  {
   "cell_type": "code",
   "execution_count": 5,
   "source": [
    "async with nullcontext():\n",
    "    ..."
   ],
   "outputs": [],
   "metadata": {}
  },
  {
   "cell_type": "markdown",
   "source": [
    "`AsyncContextDecorator` is added, `asynccontextmanager` can be automatically used as a decorator"
   ],
   "metadata": {}
  },
  {
   "cell_type": "code",
   "execution_count": 7,
   "source": [
    "from contextlib import contextmanager\n",
    "\n",
    "\n",
    "@contextmanager\n",
    "def log():\n",
    "    print(\"Something\")\n",
    "    yield\n",
    "    print(\"end\")\n",
    "\n",
    "\n",
    "# with log():\n",
    "#     ...\n",
    "\n",
    "\n",
    "@log()\n",
    "def do_something():\n",
    "    ...\n",
    "\n",
    "\n",
    "do_something()\n"
   ],
   "outputs": [
    {
     "output_type": "stream",
     "name": "stdout",
     "text": [
      "Something\n",
      "end\n"
     ]
    }
   ],
   "metadata": {}
  },
  {
   "cell_type": "code",
   "execution_count": 8,
   "source": [
    "@asynccontextmanager\n",
    "async def nap():\n",
    "    \"\"\"Async context decorator to sleep first.\n",
    "    \"\"\"\n",
    "    print(\"Taking a nap before\")\n",
    "    await asyncio.sleep(1)\n",
    "    yield\n",
    "\n",
    "\n",
    "@nap()  # Here we use it as a decorator.\n",
    "async def do_stuff():\n",
    "    print(\"stuff\")\n",
    "\n",
    "\n",
    "await do_stuff()\n"
   ],
   "outputs": [
    {
     "output_type": "stream",
     "name": "stdout",
     "text": [
      "Taking a nap before\n",
      "stuff\n"
     ]
    }
   ],
   "metadata": {}
  }
 ],
 "metadata": {
  "orig_nbformat": 4,
  "language_info": {
   "name": "python",
   "version": "3.10.0",
   "mimetype": "text/x-python",
   "codemirror_mode": {
    "name": "ipython",
    "version": 3
   },
   "pygments_lexer": "ipython3",
   "nbconvert_exporter": "python",
   "file_extension": ".py"
  },
  "kernelspec": {
   "name": "python3",
   "display_name": "Python 3.10.0 64-bit ('.venv': poetry)"
  },
  "interpreter": {
   "hash": "e26a94b1fbc0104ec383cdae7377c2527134a6a4e12075faf67d51549a1add28"
  }
 },
 "nbformat": 4,
 "nbformat_minor": 2
}