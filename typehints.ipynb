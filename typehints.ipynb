{
 "cells": [
  {
   "cell_type": "markdown",
   "source": [
    "# Type Hinting"
   ],
   "metadata": {}
  },
  {
   "cell_type": "code",
   "execution_count": 1,
   "source": [
    "from typing import (\n",
    "    Any,\n",
    "    Callable,\n",
    "    Iterable,\n",
    "    Iterator,\n",
    "    ParamSpec,\n",
    "    TypeAlias,\n",
    "    TypeGuard,\n",
    "    TypeVar,\n",
    "    Union,\n",
    ")\n",
    "\n",
    "from contextlib import contextmanager"
   ],
   "outputs": [],
   "metadata": {}
  },
  {
   "cell_type": "markdown",
   "source": [
    "## PEP 604\n",
    "`Union` now can be replaced with `\"|\"`."
   ],
   "metadata": {}
  },
  {
   "cell_type": "code",
   "execution_count": 2,
   "source": [
    "uid: Union[int, str] = 1\n",
    "\n",
    "uid: int | str = 2\n",
    "\n",
    "my_id: int | None = 2\n",
    "\n",
    "print(isinstance(uid, str | int))\n"
   ],
   "outputs": [
    {
     "output_type": "stream",
     "name": "stdout",
     "text": [
      "True\n"
     ]
    }
   ],
   "metadata": {}
  },
  {
   "cell_type": "markdown",
   "source": [
    "## PEP 612\n",
    "`ParamSpec` is added to provide type hints for the decorated functions which changes function parameters."
   ],
   "metadata": {}
  },
  {
   "cell_type": "code",
   "execution_count": 4,
   "source": [
    "@contextmanager\n",
    "def cm(value: int) -> Iterator[int]:\n",
    "    yield value\n",
    "\n",
    "\n",
    "P = ParamSpec(\"P\")\n",
    "T = TypeVar(\"T\")\n",
    "\n",
    "\n",
    "def return_list(fn: Callable[P, Iterable[T]]) -> Callable[P, list[T]]:\n",
    "    def _new_fn(*args: P.args, **kwargs: P.kwargs):\n",
    "        return list(fn(*args, **kwargs))\n",
    "\n",
    "    return _new_fn\n",
    "\n",
    "\n",
    "@return_list\n",
    "def generate_integers(limit: int) -> Iterator[int]:\n",
    "    for i in range(limit):\n",
    "        yield i\n",
    "\n",
    "\n",
    "integer_to_5: list[int] = generate_integers(5)\n",
    "print(integer_to_5)"
   ],
   "outputs": [
    {
     "output_type": "stream",
     "name": "stdout",
     "text": [
      "[0, 1, 2, 3, 4]\n"
     ]
    }
   ],
   "metadata": {}
  },
  {
   "cell_type": "markdown",
   "source": [
    "## PEP 613: Explicit type aliases"
   ],
   "metadata": {}
  },
  {
   "cell_type": "code",
   "execution_count": 5,
   "source": [
    "Nodes = set[int]\n",
    "\n",
    "ClientStr = \"DBClient\"  # here type of `Client` is str\n",
    "\n",
    "ClientAlias: TypeAlias = \"DBClient\"\n",
    "\n",
    "\n",
    "class DBClient:\n",
    "    pass\n",
    "\n",
    "\n",
    "client: ClientAlias = DBClient()\n"
   ],
   "outputs": [],
   "metadata": {}
  },
  {
   "cell_type": "markdown",
   "source": [
    "## PEP 647: Type guards\n",
    "Function that cause narrowing of types "
   ],
   "metadata": {}
  },
  {
   "cell_type": "code",
   "execution_count": 7,
   "source": [
    "def example(a: None | str | int):\n",
    "    if isinstance(a, str):\n",
    "        print(a)  # Type Narrowing\n",
    "\n",
    "\n",
    "def is_string_list_no_guard(strings: list[Any]) -> bool:\n",
    "    return all(isinstance(string, str) for string in strings)\n",
    "\n",
    "\n",
    "def is_string_list(strings: list[Any]) -> TypeGuard[list[str]]:\n",
    "    \"\"\"Now type checkers know if this evaluates to True\n",
    "    `strings` is a `list[str]`\n",
    "    \"\"\"\n",
    "    return all(isinstance(string, str) for string in strings)\n",
    "\n",
    "\n",
    "a = [\"\", \"\", 1, 2]\n",
    "if is_string_list_no_guard(a):\n",
    "    print(a)  # Here the type is list[unknown]\n",
    "\n",
    "\n",
    "if is_string_list(a):\n",
    "    print(a)  # Whereas here a is list[str]\n"
   ],
   "outputs": [],
   "metadata": {}
  }
 ],
 "metadata": {
  "orig_nbformat": 4,
  "language_info": {
   "name": "python",
   "version": "3.10.0",
   "mimetype": "text/x-python",
   "codemirror_mode": {
    "name": "ipython",
    "version": 3
   },
   "pygments_lexer": "ipython3",
   "nbconvert_exporter": "python",
   "file_extension": ".py"
  },
  "kernelspec": {
   "name": "python3",
   "display_name": "Python 3.10.0 64-bit ('.venv': poetry)"
  },
  "interpreter": {
   "hash": "e26a94b1fbc0104ec383cdae7377c2527134a6a4e12075faf67d51549a1add28"
  }
 },
 "nbformat": 4,
 "nbformat_minor": 2
}