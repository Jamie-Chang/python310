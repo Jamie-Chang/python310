{
 "cells": [
  {
   "cell_type": "markdown",
   "source": [
    "# Other Changes\n",
    "## Context Managers\n",
    "Here are ways to have nested context managers."
   ],
   "metadata": {}
  },
  {
   "cell_type": "code",
   "execution_count": 1,
   "source": [
    "from contextlib import ExitStack\n",
    "\n",
    "\n",
    "with open(\"typehints.ipynb\") as foo, open(\"typehints.ipynb\") as bar:\n",
    "    pass\n",
    "\n",
    "\n",
    "with open(\"typehints.ipynb\") as foo:\n",
    "    with open(\"typehints.ipynb\") as bar:\n",
    "        pass\n",
    "\n",
    "\n",
    "with open(\"typehints.ipynb\") as foo,\\\n",
    "    open(\"typehints.ipynb\") as bar:\n",
    "    pass\n",
    "\n",
    "\n",
    "with ExitStack() as s:\n",
    "    foo = s.enter_context(open(\"typehints.ipynb\"))\n",
    "    bar = s.enter_context(open(\"typehints.ipynb\"))"
   ],
   "outputs": [],
   "metadata": {}
  },
  {
   "cell_type": "markdown",
   "source": [
    "New way to nest contextmanagers in 3.10"
   ],
   "metadata": {}
  },
  {
   "cell_type": "code",
   "execution_count": 2,
   "source": [
    "with (\n",
    "    open(\"typehints.ipynb\") as foo,\n",
    "    open(\"typehints.ipynb\") as bar,\n",
    "):\n",
    "    pass"
   ],
   "outputs": [],
   "metadata": {}
  },
  {
   "cell_type": "markdown",
   "source": [
    "## PEP 618"
   ],
   "metadata": {}
  },
  {
   "cell_type": "code",
   "execution_count": 5,
   "source": [
    "dict(zip([1, 2, 3], ['a', 'b', 'c']))"
   ],
   "outputs": [
    {
     "output_type": "execute_result",
     "data": {
      "text/plain": [
       "{1: 'a', 2: 'b', 3: 'c'}"
      ]
     },
     "metadata": {},
     "execution_count": 5
    }
   ],
   "metadata": {}
  },
  {
   "cell_type": "code",
   "execution_count": 6,
   "source": [
    "print(list(zip([1, 2], [\"a\"])))"
   ],
   "outputs": [
    {
     "output_type": "stream",
     "name": "stdout",
     "text": [
      "[(1, 'a')]\n"
     ]
    }
   ],
   "metadata": {}
  },
  {
   "cell_type": "code",
   "execution_count": 9,
   "source": [
    "from itertools import zip_longest\n",
    "\n",
    "\n",
    "print(list(zip_longest([1, 2], [\"a\"], fillvalue=\"\")))"
   ],
   "outputs": [
    {
     "output_type": "stream",
     "name": "stdout",
     "text": [
      "[(1, 'a'), (2, '')]\n"
     ]
    }
   ],
   "metadata": {}
  },
  {
   "cell_type": "markdown",
   "source": [
    "New in 3.10 If you need it to error when iterables are of different length then,"
   ],
   "metadata": {}
  },
  {
   "cell_type": "code",
   "execution_count": 10,
   "source": [
    "print(list(zip([1, 2], [\"a\"], strict=True)))"
   ],
   "outputs": [
    {
     "output_type": "error",
     "ename": "ValueError",
     "evalue": "zip() argument 2 is shorter than argument 1",
     "traceback": [
      "\u001b[0;31m---------------------------------------------------------------------------\u001b[0m",
      "\u001b[0;31mValueError\u001b[0m                                Traceback (most recent call last)",
      "\u001b[0;32m/tmp/ipykernel_25220/1593648808.py\u001b[0m in \u001b[0;36m<module>\u001b[0;34m\u001b[0m\n\u001b[0;32m----> 1\u001b[0;31m \u001b[0mprint\u001b[0m\u001b[0;34m(\u001b[0m\u001b[0mlist\u001b[0m\u001b[0;34m(\u001b[0m\u001b[0mzip\u001b[0m\u001b[0;34m(\u001b[0m\u001b[0;34m[\u001b[0m\u001b[0;36m1\u001b[0m\u001b[0;34m,\u001b[0m \u001b[0;36m2\u001b[0m\u001b[0;34m]\u001b[0m\u001b[0;34m,\u001b[0m \u001b[0;34m[\u001b[0m\u001b[0;34m\"a\"\u001b[0m\u001b[0;34m]\u001b[0m\u001b[0;34m,\u001b[0m \u001b[0mstrict\u001b[0m\u001b[0;34m=\u001b[0m\u001b[0;32mTrue\u001b[0m\u001b[0;34m)\u001b[0m\u001b[0;34m)\u001b[0m\u001b[0;34m)\u001b[0m\u001b[0;34m\u001b[0m\u001b[0;34m\u001b[0m\u001b[0m\n\u001b[0m",
      "\u001b[0;31mValueError\u001b[0m: zip() argument 2 is shorter than argument 1"
     ]
    }
   ],
   "metadata": {}
  },
  {
   "cell_type": "markdown",
   "source": [
    "## Dataclass Changes\n",
    "### Keyword Only Attributes"
   ],
   "metadata": {}
  },
  {
   "cell_type": "code",
   "execution_count": 11,
   "source": [
    "from dataclasses import KW_ONLY, dataclass, field\n",
    "from datetime import date\n",
    "\n",
    "\n",
    "@dataclass(kw_only=True)\n",
    "class Birthday:\n",
    "    name: str = \"\"\n",
    "    birthday: date\n",
    "\n",
    "\n",
    "Birthday(name=\"Jamie\", birthday=date(1980, 1, 1))\n"
   ],
   "outputs": [
    {
     "output_type": "execute_result",
     "data": {
      "text/plain": [
       "Birthday(name='Jamie', birthday=datetime.date(1980, 1, 1))"
      ]
     },
     "metadata": {},
     "execution_count": 11
    }
   ],
   "metadata": {}
  },
  {
   "cell_type": "code",
   "execution_count": 12,
   "source": [
    "Birthday(\"Jamie\", date(1980, 1, 1))  # Fail both type check and runtime"
   ],
   "outputs": [
    {
     "output_type": "error",
     "ename": "TypeError",
     "evalue": "Birthday.__init__() takes 1 positional argument but 3 were given",
     "traceback": [
      "\u001b[0;31m---------------------------------------------------------------------------\u001b[0m",
      "\u001b[0;31mTypeError\u001b[0m                                 Traceback (most recent call last)",
      "\u001b[0;32m/tmp/ipykernel_25220/4271699768.py\u001b[0m in \u001b[0;36m<module>\u001b[0;34m\u001b[0m\n\u001b[0;32m----> 1\u001b[0;31m \u001b[0mBirthday\u001b[0m\u001b[0;34m(\u001b[0m\u001b[0;34m\"Jamie\"\u001b[0m\u001b[0;34m,\u001b[0m \u001b[0mdate\u001b[0m\u001b[0;34m(\u001b[0m\u001b[0;36m1980\u001b[0m\u001b[0;34m,\u001b[0m \u001b[0;36m1\u001b[0m\u001b[0;34m,\u001b[0m \u001b[0;36m1\u001b[0m\u001b[0;34m)\u001b[0m\u001b[0;34m)\u001b[0m  \u001b[0;31m# Fail both type check and runtime\u001b[0m\u001b[0;34m\u001b[0m\u001b[0;34m\u001b[0m\u001b[0m\n\u001b[0m",
      "\u001b[0;31mTypeError\u001b[0m: Birthday.__init__() takes 1 positional argument but 3 were given"
     ]
    }
   ],
   "metadata": {}
  },
  {
   "cell_type": "markdown",
   "source": [
    "Not all fields have to be `kw_only`"
   ],
   "metadata": {}
  },
  {
   "cell_type": "code",
   "execution_count": 13,
   "source": [
    "@dataclass\n",
    "class Birthday2:\n",
    "    name: str\n",
    "    birthday: date = field(kw_only=True)"
   ],
   "outputs": [],
   "metadata": {}
  },
  {
   "cell_type": "markdown",
   "source": [
    "Marker to mark keyword-only arguments."
   ],
   "metadata": {}
  },
  {
   "cell_type": "code",
   "execution_count": 14,
   "source": [
    "def get_point(x, y, *, z, t):\n",
    "    ...\n",
    "\n",
    "\n",
    "@dataclass\n",
    "class Point:\n",
    "    x: float\n",
    "    y: float\n",
    "    _: KW_ONLY  # Like the * symbol\n",
    "    z: float = 0.0\n",
    "    t: float = 0.0"
   ],
   "outputs": [],
   "metadata": {}
  },
  {
   "cell_type": "markdown",
   "source": [
    "### Slots\n",
    "Slots are useful but hard to add in traditional classes"
   ],
   "metadata": {}
  },
  {
   "cell_type": "code",
   "execution_count": 15,
   "source": [
    "class Record1:\n",
    "    \"\"\"Record class with `x` and `y` attributes in slots.\n",
    "\n",
    "    This allows the faster attribute access and use less memory.\n",
    "    \"\"\"\n",
    "    __slots__ = (\"x\", \"y\")  # Annoying to write\n",
    "\n",
    "    def __init__(self, x: int, y: int) -> None:\n",
    "        self.x = x\n",
    "        self.y = y\n",
    "\n",
    "    def __str__(self) -> str:\n",
    "        ..."
   ],
   "outputs": [],
   "metadata": {}
  },
  {
   "cell_type": "markdown",
   "source": [
    "New dataclass option makes it very easy."
   ],
   "metadata": {}
  },
  {
   "cell_type": "code",
   "execution_count": 16,
   "source": [
    "@dataclass(slots=True)\n",
    "class Record2:\n",
    "    \"\"\"Record class with slots using new dataclass option.\n",
    "    \"\"\"\n",
    "    x: int\n",
    "    y: int"
   ],
   "outputs": [],
   "metadata": {}
  },
  {
   "cell_type": "code",
   "execution_count": 19,
   "source": [
    "Record2(1, 2).something_else = 5"
   ],
   "outputs": [
    {
     "output_type": "error",
     "ename": "AttributeError",
     "evalue": "'Record2' object has no attribute 'something_else'",
     "traceback": [
      "\u001b[0;31m---------------------------------------------------------------------------\u001b[0m",
      "\u001b[0;31mAttributeError\u001b[0m                            Traceback (most recent call last)",
      "\u001b[0;32m/tmp/ipykernel_25220/2438108030.py\u001b[0m in \u001b[0;36m<module>\u001b[0;34m\u001b[0m\n\u001b[0;32m----> 1\u001b[0;31m \u001b[0mRecord2\u001b[0m\u001b[0;34m(\u001b[0m\u001b[0;36m1\u001b[0m\u001b[0;34m,\u001b[0m \u001b[0;36m2\u001b[0m\u001b[0;34m)\u001b[0m\u001b[0;34m.\u001b[0m\u001b[0msomething_else\u001b[0m \u001b[0;34m=\u001b[0m \u001b[0;36m5\u001b[0m\u001b[0;34m\u001b[0m\u001b[0;34m\u001b[0m\u001b[0m\n\u001b[0m",
      "\u001b[0;31mAttributeError\u001b[0m: 'Record2' object has no attribute 'something_else'"
     ]
    }
   ],
   "metadata": {}
  }
 ],
 "metadata": {
  "orig_nbformat": 4,
  "language_info": {
   "name": "python",
   "version": "3.10.0",
   "mimetype": "text/x-python",
   "codemirror_mode": {
    "name": "ipython",
    "version": 3
   },
   "pygments_lexer": "ipython3",
   "nbconvert_exporter": "python",
   "file_extension": ".py"
  },
  "kernelspec": {
   "name": "python3",
   "display_name": "Python 3.10.0 64-bit ('.venv': poetry)"
  },
  "interpreter": {
   "hash": "e26a94b1fbc0104ec383cdae7377c2527134a6a4e12075faf67d51549a1add28"
  }
 },
 "nbformat": 4,
 "nbformat_minor": 2
}